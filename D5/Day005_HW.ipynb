{
 "cells": [
  {
   "cell_type": "markdown",
   "metadata": {},
   "source": [
    "# API 資料串接 - 以 Dcard API 實作範例\n",
    "\n",
    "* 了解 Dcard API 使用方式與回傳內容\n",
    "* 撰寫程式存取 API 且解析 JSON 格式資料\n"
   ]
  },
  {
   "cell_type": "markdown",
   "metadata": {},
   "source": [
    "## 作業目標\n",
    "\n",
    "* 請利用 API: https://www.dcard.tw/_api/forums/pet/posts?popular=true 回答下列問題：\n",
    "\n",
    "1. 這個 API 一次會回傳幾筆資料？每一筆資料包含哪些欄位？\n",
    "2. 取出每一筆資料的「標題」、「貼文時間」、「留言人數」、「按讚人數」\n",
    "3. 計算熱門/非熱門文章的「平均留言人數」與「平均按讚人數」"
   ]
  },
  {
   "cell_type": "code",
   "execution_count": 1,
   "metadata": {},
   "outputs": [
    {
     "name": "stdout",
     "output_type": "stream",
     "text": [
      "30\n"
     ]
    }
   ],
   "source": [
    "# 1. 這個 API 一次會回傳幾筆資料？每一筆資料包含哪些欄位？\n",
    "\n",
    "import requests\n",
    "import json\n",
    "r = requests.get('https://www.dcard.tw/_api/forums/pet/posts?popular=true')\n",
    "data = json.loads(r.text)\n",
    "\n",
    "print(len(data))"
   ]
  },
  {
   "cell_type": "code",
   "execution_count": 3,
   "metadata": {},
   "outputs": [
    {
     "name": "stdout",
     "output_type": "stream",
     "text": [
      "#圖多 口香糖做的貓？！ 2019-12-15T19:26:51.944Z 39 1765\n",
      "#黑特 小孩虐待寵物活活踩死鸚鵡 2019-12-15T15:32:42.755Z 48 457\n",
      "給不給人出門 2019-12-15T13:07:06.980Z 12 288\n",
      "我爸想喂野貓吃農藥 2019-12-15T04:20:43.807Z 61 152\n",
      "阿嬤養的豬 2019-12-15T17:16:31.445Z 6 147\n",
      "還我男朋友ಠ_ಠ 2019-12-15T17:25:24.041Z 0 61\n",
      "原以為會很可愛卻走鐘了 2019-12-15T13:46:03.332Z 4 61\n",
      "我家柯基在思考人生 2019-12-15T12:17:53.947Z 6 51\n",
      "#英短 我可愛的兒💖 2019-12-15T10:38:42.587Z 6 26\n",
      "狗狗在我面前的離逝...拜託有良心一點！！！ 2019-12-16T03:35:00.754Z 4 24\n",
      "新北耶誕城～真的很抱歉🙇‍♀️🙇 2019-12-16T03:20:30.036Z 1 22\n",
      "我的貓走失了😭 2019-12-16T06:11:50.123Z 3 18\n",
      "同學，交出妳的貓咪 2019-12-16T03:11:01.370Z 2 18\n",
      "#圖 #限時狀態 同學~交出你的鼠鼠♥ 2019-12-16T10:48:57.101Z 2 17\n",
      "轉：《轉》新竹市巨城附近大量小貓慘死 2019-12-15T14:36:22.125Z 1 16\n",
      "貓咪吃到酸梅🐈😝😖 (圖) 2019-12-15T17:48:23.078Z 0 15\n",
      "我努力賺錢，你努力花錢😭 2019-12-15T13:46:00.205Z 3 14\n",
      "寵物鮮食 狗蛋糕 2019-12-15T14:02:23.606Z 3 13\n",
      "先生我不是故意拍到你的！ 2019-12-16T10:06:58.335Z 1 11\n",
      "送養？棄養？ 2019-12-16T05:41:10.504Z 4 11\n",
      "「阿是不會領養喔」 2019-12-16T11:00:02.638Z 3 10\n",
      "#天竺鼠 Fatbe Diary 成長日記 - 鼻鼻討摸摸睡著篇 2019-12-15T13:30:56.683Z 1 9\n",
      "偽長大照 2019-12-15T15:04:47.209Z 1 8\n",
      "你可以不要這麼厭世嗎 2019-12-15T11:47:56.734Z 2 8\n",
      "#圖 重點色布偶喔！不是暹羅ヾ(*ΦωΦ)ツ 2019-12-15T15:06:17.023Z 2 7\n",
      "獸醫助理 2019-12-15T07:26:58.875Z 22 7\n",
      "#圖 癡肥的貓 2019-12-16T07:15:24.730Z 1 6\n",
      "蛋蛋保衛戰 2019-12-16T05:36:12.642Z 1 6\n",
      "急）板橋附近誘捕籠租借 2019-12-16T02:17:28.022Z 1 5\n",
      "求救，我好擔心…… 2019-12-15T14:48:43.665Z 13 5\n"
     ]
    }
   ],
   "source": [
    "# 2. 取出每一筆資料的「標題」、「貼文時間」、「留言人數」、「按讚人數」\n",
    "\n",
    "for i in data:\n",
    "   print(i[\"title\"],i[\"createdAt\"],str(i[\"commentCount\"]),str(i[\"likeCount\"]))\n",
    "   #print()"
   ]
  },
  {
   "cell_type": "code",
   "execution_count": 4,
   "metadata": {},
   "outputs": [
    {
     "name": "stdout",
     "output_type": "stream",
     "text": [
      "8.433333333333334\n",
      "108.6\n"
     ]
    }
   ],
   "source": [
    "# 3. 計算熱門/非熱門文章的「平均留言人數」與「平均按讚人數」\n",
    "#熱門\n",
    "sum_commentCount=0\n",
    "sum_likeCount=0\n",
    "for i in data:\n",
    "    sum_commentCount+=int(i[\"commentCount\"])\n",
    "    sum_likeCount+=int(i[\"likeCount\"])\n",
    "\n",
    "\n",
    "print(sum_commentCount/len(data))\n",
    "print(sum_likeCount/len(data))"
   ]
  },
  {
   "cell_type": "code",
   "execution_count": 5,
   "metadata": {},
   "outputs": [
    {
     "name": "stdout",
     "output_type": "stream",
     "text": [
      "1.6666666666666667\n",
      "5.966666666666667\n"
     ]
    }
   ],
   "source": [
    "#非熱門\n",
    "\n",
    "r = requests.get('https://www.dcard.tw/_api/forums/pet/posts?popular=false')\n",
    "data = json.loads(r.text)\n",
    "\n",
    "sum_commentCount=0\n",
    "sum_likeCount=0\n",
    "for n in data:\n",
    "    sum_commentCount+=int(n[\"commentCount\"])\n",
    "    sum_likeCount+=int(n[\"likeCount\"])\n",
    "\n",
    "\n",
    "print(sum_commentCount/len(data))\n",
    "print(sum_likeCount/len(data))"
   ]
  },
  {
   "cell_type": "code",
   "execution_count": null,
   "metadata": {},
   "outputs": [],
   "source": []
  }
 ],
 "metadata": {
  "kernelspec": {
   "display_name": "Python 3",
   "language": "python",
   "name": "python3"
  },
  "language_info": {
   "codemirror_mode": {
    "name": "ipython",
    "version": 3
   },
   "file_extension": ".py",
   "mimetype": "text/x-python",
   "name": "python",
   "nbconvert_exporter": "python",
   "pygments_lexer": "ipython3",
   "version": "3.7.4"
  }
 },
 "nbformat": 4,
 "nbformat_minor": 2
}
